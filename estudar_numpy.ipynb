{
  "nbformat": 4,
  "nbformat_minor": 0,
  "metadata": {
    "colab": {
      "provenance": [],
      "authorship_tag": "ABX9TyPL9jc7v4wxzbiaxBgg3z/y",
      "include_colab_link": true
    },
    "kernelspec": {
      "name": "python3",
      "display_name": "Python 3"
    },
    "language_info": {
      "name": "python"
    }
  },
  "cells": [
    {
      "cell_type": "markdown",
      "metadata": {
        "id": "view-in-github",
        "colab_type": "text"
      },
      "source": [
        "<a href=\"https://colab.research.google.com/github/dislaybim/BIBLIOTECA-NUMPY-PYTHON/blob/main/estudar_numpy.ipynb\" target=\"_parent\"><img src=\"https://colab.research.google.com/assets/colab-badge.svg\" alt=\"Open In Colab\"/></a>"
      ]
    },
    {
      "cell_type": "code",
      "execution_count": null,
      "metadata": {
        "colab": {
          "base_uri": "https://localhost:8080/"
        },
        "id": "ZU5OiGBna1QJ",
        "outputId": "ea232c13-03c0-4e19-b39a-8084b1368036"
      },
      "outputs": [
        {
          "output_type": "stream",
          "name": "stdout",
          "text": [
            "[[1. 1.]\n",
            " [1. 1.]\n",
            " [1. 1.]]\n"
          ]
        }
      ],
      "source": [
        "import numpy as np\n",
        "\n",
        "ones_array = np.ones((3, 2))\n",
        "print(ones_array)"
      ]
    },
    {
      "cell_type": "code",
      "source": [
        "import numpy as np\n",
        "\n",
        "# Criar um array de números\n",
        "dados = np.array([10, 15, 20, 25, 30])\n",
        "\n",
        "# Calcular a média\n",
        "media = np.mean(dados)\n",
        "\n",
        "# Calcular o desvio padrão\n",
        "desvio_padrao = np.std(dados)\n",
        "\n",
        "print(\"Dados:\", dados)\n",
        "print(\"Média:\", media)\n",
        "print(\"Desvio Padrão:\", desvio_padrao)\n"
      ],
      "metadata": {
        "colab": {
          "base_uri": "https://localhost:8080/"
        },
        "id": "BrptFUFYbzum",
        "outputId": "4ba62d04-b139-4159-d007-5ddb27e1b3e4"
      },
      "execution_count": null,
      "outputs": [
        {
          "output_type": "stream",
          "name": "stdout",
          "text": [
            "Dados: [10 15 20 25 30]\n",
            "Média: 20.0\n",
            "Desvio Padrão: 7.0710678118654755\n"
          ]
        }
      ]
    },
    {
      "cell_type": "code",
      "source": [
        "import numpy as np\n",
        "\n",
        "numeros = []\n",
        "\n",
        "for i in range(0, 3):\n",
        "    linha = []  # Inicializa uma lista vazia para cada linha\n",
        "    for c in range(0, 3):\n",
        "        e = (int(input(\"Digite um número: \")))\n",
        "        linha.append(e)  # Adiciona o número à linha atual\n",
        "    numeros.append(linha)  # Adiciona a linha à lista principal\n",
        "\n",
        "faze = np.array([numeros, [1, 3, 4, 5, 6]])\n",
        "print(faze)\n",
        "print(type(faze))\n"
      ],
      "metadata": {
        "colab": {
          "base_uri": "https://localhost:8080/"
        },
        "id": "LDEkI__odX5m",
        "outputId": "bb8bf3a8-e3d1-49f9-a844-25f62d9ca1fd"
      },
      "execution_count": null,
      "outputs": [
        {
          "output_type": "stream",
          "name": "stdout",
          "text": [
            "Digite um número: 6\n",
            "Digite um número: 8\n",
            "Digite um número: 8\n",
            "Digite um número: 9\n",
            "Digite um número: 9\n",
            "Digite um número: 0\n",
            "Digite um número: 7\n",
            "Digite um número: 6\n",
            "Digite um número: 4\n",
            "[list([[6, 8, 8], [9, 9, 0], [7, 6, 4]]) list([1, 3, 4, 5, 6])]\n",
            "<class 'numpy.ndarray'>\n"
          ]
        },
        {
          "output_type": "stream",
          "name": "stderr",
          "text": [
            "<ipython-input-2-4e362096c237>:12: VisibleDeprecationWarning: Creating an ndarray from ragged nested sequences (which is a list-or-tuple of lists-or-tuples-or ndarrays with different lengths or shapes) is deprecated. If you meant to do this, you must specify 'dtype=object' when creating the ndarray.\n",
            "  faze = np.array([numeros, [1, 3, 4, 5, 6]])\n"
          ]
        }
      ]
    },
    {
      "cell_type": "markdown",
      "source": [],
      "metadata": {
        "id": "iEvQmO-qKhbc"
      }
    },
    {
      "cell_type": "code",
      "source": [
        "print(\"-=-\"*10)\n",
        "print(\"      MEGA-SENA\")\n",
        "print(\"-=-\"*10)\n",
        "import random\n",
        "\n",
        "quantidade = int(input(\"Quantidade de jogos: \"))\n",
        "\n",
        "lista = [[0 for j in range(6)] for i in range(quantidade)]\n",
        "\n",
        "for j in range(0, quantidade):\n",
        "    for i in range(0, 6):\n",
        "        lista[j][i] = random.randint(0, 60)\n",
        "\n",
        "# Imprime a matriz completa\n",
        "cont=0\n",
        "for j in range(0,quantidade):\n",
        "  for i in range(0,6):\n",
        "    con=cont+1\n",
        "    print(\"O jogo {}={},\".format(j+1,lista[j][i]), end='')\n",
        "    if cont==5:\n",
        "      print(\"\\n\")\n",
        "      cont=0"
      ],
      "metadata": {
        "colab": {
          "base_uri": "https://localhost:8080/"
        },
        "id": "UPZQ8155KiAc",
        "outputId": "8aecbe4c-a272-431b-94df-e2c1356d14b7"
      },
      "execution_count": null,
      "outputs": [
        {
          "output_type": "stream",
          "name": "stdout",
          "text": [
            "-=--=--=--=--=--=--=--=--=--=-\n",
            "      MEGA-SENA\n",
            "-=--=--=--=--=--=--=--=--=--=-\n",
            "Quantidade de jogos: 3\n",
            "O jogo 1=32,O jogo 1=38,O jogo 1=39,O jogo 1=47,O jogo 1=60,O jogo 1=18,O jogo 2=13,O jogo 2=31,O jogo 2=8,O jogo 2=42,O jogo 2=56,O jogo 2=9,O jogo 3=1,O jogo 3=51,O jogo 3=59,O jogo 3=14,O jogo 3=4,O jogo 3=16,"
          ]
        }
      ]
    },
    {
      "cell_type": "markdown",
      "source": [
        "aqui vou fazer um simples programa para a gente selecionar um formato de uma matrix, e obter todos os seu valores atraves de um laço de repetição\n",
        "**negrito**"
      ],
      "metadata": {
        "id": "EkbMYn_4N69B"
      }
    },
    {
      "cell_type": "code",
      "source": [
        "#primeiramente, irei importar todas as biblioteca\n",
        "#após isso, teremos que criar um imput, lista vazia\n",
        "\n",
        "import numpy as np\n",
        "\n",
        "dicionario={}\n",
        "matrix = []\n",
        "quant=int(input(\"qual a quantidade de linhas e colunas? \"))\n",
        "\n",
        "#def matriz():\n",
        "for i in range(0, quant):\n",
        "  linha=[] #linha vazia para armazenar durante os laços de repetição\n",
        "  for j in range(0, quant):\n",
        "    numero=int(input(\"m1[{}][{}]: \".format(i,j)))\n",
        "    linha.append(numero)\n",
        "  matrix.append(linha)\n",
        "dicionario = matrix\n",
        "format = np.array(matrix)\n",
        "\n",
        "print(format)\n",
        "print(type(format))\n",
        "print(dicionario)\n",
        "print(\"\\ncarregando!!!\")\n",
        "\n",
        "#for i in range(0, quant):\n",
        "  #linha2 = []\n",
        "  #for j in range(0, quant):\n",
        "    #num =\n",
        "\n",
        "\n",
        "\n",
        "\n"
      ],
      "metadata": {
        "colab": {
          "base_uri": "https://localhost:8080/"
        },
        "id": "K-IqYORjOQ1i",
        "outputId": "5f6e261a-d110-4b32-84a6-0ca6a3952548"
      },
      "execution_count": null,
      "outputs": [
        {
          "output_type": "stream",
          "name": "stdout",
          "text": [
            "qual a quantidade de linhas e colunas? 2\n",
            "m1[0][0]: 2\n",
            "m1[0][1]: 2\n",
            "m1[1][0]: 2\n",
            "m1[1][1]: 2\n",
            "[[2 2]\n",
            " [2 2]]\n",
            "<class 'numpy.ndarray'>\n",
            "[[2, 2], [2, 2]]\n",
            "\n",
            "carregando!!!\n"
          ]
        }
      ]
    },
    {
      "cell_type": "code",
      "source": [
        "import numpy as np\n",
        "\n",
        "quant = int(input(\"Qual é a quantidade de linhas e colunas? \"))\n",
        "\n",
        "# Inicialize uma matriz vazia\n",
        "matrix = []\n",
        "\n",
        "# Use um loop para preencher a matriz\n",
        "for i in range(quant):\n",
        "    linha = []\n",
        "    for j in range(quant):\n",
        "        numero = int(input(\"m1[{}][{}]: \".format(i, j)))\n",
        "        linha.append(numero)\n",
        "    matrix.append(linha)\n",
        "\n",
        "# Converta a matriz em um array NumPy\n",
        "format = np.array(matrix)\n",
        "\n",
        "# Armazene a matriz em um dicionário\n",
        "dicionario = {'matriz': format}\n",
        "\n",
        "# Exiba a matriz NumPy, o tipo dela e o dicionário\n",
        "print(\"\\nMatriz NumPy:\")\n",
        "print(format)\n",
        "print(type(format))\n",
        "\n",
        "print(\"\\nDicionário:\")\n",
        "print(dicionario)\n"
      ],
      "metadata": {
        "id": "ZiXOB__2iJ5a",
        "outputId": "615b4a2b-ac1d-43e3-d8a0-941ea2c503d8",
        "colab": {
          "base_uri": "https://localhost:8080/",
          "height": 390
        }
      },
      "execution_count": null,
      "outputs": [
        {
          "output_type": "error",
          "ename": "KeyboardInterrupt",
          "evalue": "ignored",
          "traceback": [
            "\u001b[0;31m---------------------------------------------------------------------------\u001b[0m",
            "\u001b[0;31mKeyboardInterrupt\u001b[0m                         Traceback (most recent call last)",
            "\u001b[0;32m<ipython-input-1-95ccda2eb179>\u001b[0m in \u001b[0;36m<cell line: 3>\u001b[0;34m()\u001b[0m\n\u001b[1;32m      1\u001b[0m \u001b[0;32mimport\u001b[0m \u001b[0mnumpy\u001b[0m \u001b[0;32mas\u001b[0m \u001b[0mnp\u001b[0m\u001b[0;34m\u001b[0m\u001b[0;34m\u001b[0m\u001b[0m\n\u001b[1;32m      2\u001b[0m \u001b[0;34m\u001b[0m\u001b[0m\n\u001b[0;32m----> 3\u001b[0;31m \u001b[0mquant\u001b[0m \u001b[0;34m=\u001b[0m \u001b[0mint\u001b[0m\u001b[0;34m(\u001b[0m\u001b[0minput\u001b[0m\u001b[0;34m(\u001b[0m\u001b[0;34m\"Qual é a quantidade de linhas e colunas? \"\u001b[0m\u001b[0;34m)\u001b[0m\u001b[0;34m)\u001b[0m\u001b[0;34m\u001b[0m\u001b[0;34m\u001b[0m\u001b[0m\n\u001b[0m\u001b[1;32m      4\u001b[0m \u001b[0;34m\u001b[0m\u001b[0m\n\u001b[1;32m      5\u001b[0m \u001b[0;31m# Inicialize uma matriz vazia\u001b[0m\u001b[0;34m\u001b[0m\u001b[0;34m\u001b[0m\u001b[0m\n",
            "\u001b[0;32m/usr/local/lib/python3.10/dist-packages/ipykernel/kernelbase.py\u001b[0m in \u001b[0;36mraw_input\u001b[0;34m(self, prompt)\u001b[0m\n\u001b[1;32m    849\u001b[0m                 \u001b[0;34m\"raw_input was called, but this frontend does not support input requests.\"\u001b[0m\u001b[0;34m\u001b[0m\u001b[0;34m\u001b[0m\u001b[0m\n\u001b[1;32m    850\u001b[0m             )\n\u001b[0;32m--> 851\u001b[0;31m         return self._input_request(str(prompt),\n\u001b[0m\u001b[1;32m    852\u001b[0m             \u001b[0mself\u001b[0m\u001b[0;34m.\u001b[0m\u001b[0m_parent_ident\u001b[0m\u001b[0;34m,\u001b[0m\u001b[0;34m\u001b[0m\u001b[0;34m\u001b[0m\u001b[0m\n\u001b[1;32m    853\u001b[0m             \u001b[0mself\u001b[0m\u001b[0;34m.\u001b[0m\u001b[0m_parent_header\u001b[0m\u001b[0;34m,\u001b[0m\u001b[0;34m\u001b[0m\u001b[0;34m\u001b[0m\u001b[0m\n",
            "\u001b[0;32m/usr/local/lib/python3.10/dist-packages/ipykernel/kernelbase.py\u001b[0m in \u001b[0;36m_input_request\u001b[0;34m(self, prompt, ident, parent, password)\u001b[0m\n\u001b[1;32m    893\u001b[0m             \u001b[0;32mexcept\u001b[0m \u001b[0mKeyboardInterrupt\u001b[0m\u001b[0;34m:\u001b[0m\u001b[0;34m\u001b[0m\u001b[0;34m\u001b[0m\u001b[0m\n\u001b[1;32m    894\u001b[0m                 \u001b[0;31m# re-raise KeyboardInterrupt, to truncate traceback\u001b[0m\u001b[0;34m\u001b[0m\u001b[0;34m\u001b[0m\u001b[0m\n\u001b[0;32m--> 895\u001b[0;31m                 \u001b[0;32mraise\u001b[0m \u001b[0mKeyboardInterrupt\u001b[0m\u001b[0;34m(\u001b[0m\u001b[0;34m\"Interrupted by user\"\u001b[0m\u001b[0;34m)\u001b[0m \u001b[0;32mfrom\u001b[0m \u001b[0;32mNone\u001b[0m\u001b[0;34m\u001b[0m\u001b[0;34m\u001b[0m\u001b[0m\n\u001b[0m\u001b[1;32m    896\u001b[0m             \u001b[0;32mexcept\u001b[0m \u001b[0mException\u001b[0m \u001b[0;32mas\u001b[0m \u001b[0me\u001b[0m\u001b[0;34m:\u001b[0m\u001b[0;34m\u001b[0m\u001b[0;34m\u001b[0m\u001b[0m\n\u001b[1;32m    897\u001b[0m                 \u001b[0mself\u001b[0m\u001b[0;34m.\u001b[0m\u001b[0mlog\u001b[0m\u001b[0;34m.\u001b[0m\u001b[0mwarning\u001b[0m\u001b[0;34m(\u001b[0m\u001b[0;34m\"Invalid Message:\"\u001b[0m\u001b[0;34m,\u001b[0m \u001b[0mexc_info\u001b[0m\u001b[0;34m=\u001b[0m\u001b[0;32mTrue\u001b[0m\u001b[0;34m)\u001b[0m\u001b[0;34m\u001b[0m\u001b[0;34m\u001b[0m\u001b[0m\n",
            "\u001b[0;31mKeyboardInterrupt\u001b[0m: Interrupted by user"
          ]
        }
      ]
    },
    {
      "cell_type": "code",
      "source": [
        "import numpy as np\n",
        "\n",
        "%timeit np.arange(1,9)#criar um vetor com módolo 7 de [1-8]\n"
      ],
      "metadata": {
        "colab": {
          "base_uri": "https://localhost:8080/"
        },
        "id": "O_FifAZVKAtT",
        "outputId": "9ef9cbb2-13b2-404e-a3de-9721d8a27f21"
      },
      "execution_count": null,
      "outputs": [
        {
          "output_type": "stream",
          "name": "stdout",
          "text": [
            "917 ns ± 343 ns per loop (mean ± std. dev. of 7 runs, 1000000 loops each)\n"
          ]
        }
      ]
    },
    {
      "cell_type": "code",
      "source": [
        "import numpy as np\n",
        "x = [1,2,3,4,5]\n",
        "y = np.array([1,2,3,4,5])\n",
        "\n",
        "print(y)\n",
        "print(type(y))"
      ],
      "metadata": {
        "colab": {
          "base_uri": "https://localhost:8080/"
        },
        "id": "N11fsns2MhWL",
        "outputId": "4e4f33df-990d-4662-ed25-7df9e588ebc4"
      },
      "execution_count": null,
      "outputs": [
        {
          "output_type": "stream",
          "name": "stdout",
          "text": [
            "[1 2 3 4 5]\n",
            "<class 'numpy.ndarray'>\n"
          ]
        }
      ]
    },
    {
      "cell_type": "code",
      "source": [],
      "metadata": {
        "id": "ahdfb36ZNMQq"
      },
      "execution_count": null,
      "outputs": []
    },
    {
      "cell_type": "code",
      "source": [
        "l = []\n",
        "\n",
        "for i in range(1,5):\n",
        "  int = input(\"enter : \")\n",
        "  l.append(int)\n",
        "\n",
        "print(np.array(l))"
      ],
      "metadata": {
        "colab": {
          "base_uri": "https://localhost:8080/"
        },
        "id": "pIMW3XyXNMY7",
        "outputId": "7d6cbe0b-3687-41ec-b777-0596a2f2639d"
      },
      "execution_count": null,
      "outputs": [
        {
          "output_type": "stream",
          "name": "stdout",
          "text": [
            "enter : 2\n",
            "enter : 3\n",
            "enter : 4\n",
            "enter : 5\n",
            "['2' '3' '4' '5']\n"
          ]
        }
      ]
    },
    {
      "cell_type": "code",
      "source": [
        "#3) vetor nulo de tamanho 10\n",
        "\n",
        "import numpy as np\n",
        "\n",
        "null = np.zeros(10)\n",
        "\n",
        "print(null)\n",
        "print(type(null))\n"
      ],
      "metadata": {
        "colab": {
          "base_uri": "https://localhost:8080/"
        },
        "id": "t5c27IaGQTrI",
        "outputId": "16f949d7-649b-45c6-bd36-4e59533b6152"
      },
      "execution_count": null,
      "outputs": [
        {
          "output_type": "stream",
          "name": "stdout",
          "text": [
            "[0. 0. 0. 0. 0. 0. 0. 0. 0. 0.]\n",
            "<class 'numpy.ndarray'>\n"
          ]
        }
      ]
    },
    {
      "cell_type": "code",
      "source": [
        "import numpy as np\n",
        "\n",
        "lista = []\n",
        "\n",
        "for i in range(0,2):\n",
        "    linha = []\n",
        "    for j in range(0,2):\n",
        "        n = int(input())\n",
        "        linha.append(n)\n",
        "    lista.append(linha)\n",
        "\n",
        "memoria = np.array(lista)\n",
        "\n",
        "# Calcule o tamanho da memória ocupada em bytes\n",
        "tamanho_memoria = memoria.nbytes\n",
        "\n",
        "print(\"Tamanho da memória ocupada pela matriz: {} bytes\".format(tamanho_memoria))\n"
      ],
      "metadata": {
        "colab": {
          "base_uri": "https://localhost:8080/"
        },
        "id": "ZyGxWrPalcat",
        "outputId": "3820606c-c230-4e0f-a7ad-ea8598649be2"
      },
      "execution_count": null,
      "outputs": [
        {
          "output_type": "stream",
          "name": "stdout",
          "text": [
            "6\n",
            "7\n",
            "8\n",
            "9\n",
            "Tamanho da memória ocupada pela matriz: 32 bytes\n"
          ]
        }
      ]
    },
    {
      "cell_type": "code",
      "source": [
        "#4) tamanho do vetor\n",
        "import numpy as np\n",
        "\n",
        "lista = []\n",
        "\n",
        "for i in range(0, 3):\n",
        "    linha = []\n",
        "    for c in range(0, 3):\n",
        "        var = int(input('{}{}: '.format(i,c)))\n",
        "        linha.append(var)\n",
        "    lista.append(linha)\n",
        "\n",
        "memoria = np.array(lista)#cada posição de um vertor equivale a 1 byte de memoria\n",
        "\n",
        "# Calcule o tamanho da memória ocupada em bytes\n",
        "tamanho_memoria = memoria.nbytes\n",
        "print(memoria)\n",
        "print(type(memoria))\n",
        "print(\"Tamanho da memória ocupada pela matriz: {} bytes\".format(tamanho_memoria))\n"
      ],
      "metadata": {
        "colab": {
          "base_uri": "https://localhost:8080/"
        },
        "id": "x8dSlXizrRGI",
        "outputId": "4ae91da7-d24f-4ed5-ccc6-15813c8195c6"
      },
      "execution_count": null,
      "outputs": [
        {
          "output_type": "stream",
          "name": "stdout",
          "text": [
            "00: 5\n",
            "01: 7\n",
            "02: 8\n",
            "10: 9\n",
            "11: 4\n",
            "12: 5\n",
            "20: 6\n",
            "21: 7\n",
            "22: 7\n",
            "[[5 7 8]\n",
            " [9 4 5]\n",
            " [6 7 7]]\n",
            "<class 'numpy.ndarray'>\n",
            "Tamanho da memória ocupada pela matriz: 72 bytes\n"
          ]
        }
      ]
    },
    {
      "cell_type": "code",
      "source": [
        "#6)vetor de modulo 10 com todos os espaços nulos, 5 posição valor 1\n",
        "\n",
        "import numpy as np\n",
        "\n",
        "doido = np.zeros(10)\n",
        "doido[4] = 1\n",
        "\n",
        "print(doido)\n",
        "print(type(doido))"
      ],
      "metadata": {
        "colab": {
          "base_uri": "https://localhost:8080/"
        },
        "id": "1QfNuuoadyNM",
        "outputId": "3418ce56-22b1-4e19-a38c-0c74650ec416"
      },
      "execution_count": null,
      "outputs": [
        {
          "output_type": "stream",
          "name": "stdout",
          "text": [
            "[0. 0. 0. 0. 1. 0. 0. 0. 0. 0.]\n",
            "<class 'numpy.ndarray'>\n"
          ]
        }
      ]
    },
    {
      "cell_type": "code",
      "source": [
        "#7)crie um vetor com valores variando de 10 a 49\n",
        "\n",
        "import numpy as np\n",
        "tamanho = int(input(\"qual o tamanho do vetor? \"))\n",
        "\n",
        "vetor = np.zeros(tamanho)\n",
        "z = np.arange(10,50)\n",
        "z = z[::-1]#8)reverter a ordem dos números no vetor\n",
        "\n",
        "for i in range (0,tamanho):\n",
        "  vetor[i] = np.random.randint(10,49)\n",
        "\n",
        "print(z)\n",
        "print(vetor)\n",
        "print(type(vetor))\n",
        "print(vetor.nbytes)"
      ],
      "metadata": {
        "colab": {
          "base_uri": "https://localhost:8080/"
        },
        "id": "pNBxCdNMehnc",
        "outputId": "1c8dcce1-a5bf-47b0-bd9a-6eace8bced13"
      },
      "execution_count": null,
      "outputs": [
        {
          "output_type": "stream",
          "name": "stdout",
          "text": [
            "qual o tamanho do vetor? 5\n",
            "[49 48 47 46 45 44 43 42 41 40 39 38 37 36 35 34 33 32 31 30 29 28 27 26\n",
            " 25 24 23 22 21 20 19 18 17 16 15 14 13 12 11 10]\n",
            "[33. 46. 35. 38. 42.]\n",
            "<class 'numpy.ndarray'>\n",
            "40\n"
          ]
        }
      ]
    },
    {
      "cell_type": "code",
      "source": [
        "#9) criar matrix, 3x3:\n",
        "\n",
        "import numpy as np\n",
        "matrix = []\n",
        "\n",
        "for i in range (3):\n",
        "  lista = []\n",
        "  for j in range (3):\n",
        "    x = np.random.randint(8)\n",
        "    lista.append(x)\n",
        "  matrix.append(lista)\n",
        "\n",
        "todo = np.array(matrix)\n",
        "\n",
        "print(todo)\n",
        "print(type(todo))\n"
      ],
      "metadata": {
        "colab": {
          "base_uri": "https://localhost:8080/"
        },
        "id": "0N-cSCa0iFSC",
        "outputId": "56bdad1f-081a-4627-cf0a-3de368e58b6c"
      },
      "execution_count": null,
      "outputs": [
        {
          "output_type": "stream",
          "name": "stdout",
          "text": [
            "[[7 5 2]\n",
            " [4 7 0]\n",
            " [4 4 2]]\n",
            "<class 'numpy.ndarray'>\n"
          ]
        }
      ]
    },
    {
      "cell_type": "code",
      "source": [
        "#9) criar matrix, 3x3 [0-8]:\n",
        "\n",
        "import numpy as np\n",
        "\n",
        "x = np.array(np.arange(3))\n",
        "y = np.array(np.arange(3,6))\n",
        "z = np.array(np.arange(6,9))\n",
        "\n",
        "matri = np.array([[x],[y],[z]])\n",
        "\n",
        "\n",
        "\n",
        "print(matri)\n",
        "#print(type(matri))"
      ],
      "metadata": {
        "colab": {
          "base_uri": "https://localhost:8080/"
        },
        "id": "bERcU5y6ICox",
        "outputId": "e563feea-ace8-4e39-8052-f8550defd6de"
      },
      "execution_count": null,
      "outputs": [
        {
          "output_type": "stream",
          "name": "stdout",
          "text": [
            "[[[0 1 2]]\n",
            "\n",
            " [[3 4 5]]\n",
            "\n",
            " [[6 7 8]]]\n"
          ]
        }
      ]
    },
    {
      "cell_type": "code",
      "source": [
        "#9) criar matrix, 3x3 [0-8]:\n",
        "\n",
        "import numpy as np\n",
        "\n",
        "z = np.arange(9).reshape(3,3)\n",
        "print(z)"
      ],
      "metadata": {
        "colab": {
          "base_uri": "https://localhost:8080/"
        },
        "id": "yfRG8Yh0KJul",
        "outputId": "d4ada256-5832-403e-b2cb-a1321fd728c5"
      },
      "execution_count": null,
      "outputs": [
        {
          "output_type": "stream",
          "name": "stdout",
          "text": [
            "[[0 1 2]\n",
            " [3 4 5]\n",
            " [6 7 8]]\n"
          ]
        }
      ]
    },
    {
      "cell_type": "code",
      "source": [
        "import numpy as np\n",
        "\n",
        "nz = np.nonzero([1,2,0,0,4,0])#10\n",
        "print(nz)#11 indentidade matriz\n",
        "Z = np.eye(3)\n",
        "print(Z)\n",
        "x = np.random.random((3,3,3))#12)matriz 3x3x3 aleatoria\n",
        "\n",
        "print(x)\n"
      ],
      "metadata": {
        "colab": {
          "base_uri": "https://localhost:8080/"
        },
        "id": "ejx___l9LmtX",
        "outputId": "9d73258c-9dd7-4e5a-b4bb-441d58b41056"
      },
      "execution_count": null,
      "outputs": [
        {
          "output_type": "stream",
          "name": "stdout",
          "text": [
            "(array([0, 1, 4]),)\n",
            "[[1. 0. 0.]\n",
            " [0. 1. 0.]\n",
            " [0. 0. 1.]]\n",
            "[[[0.3137239  0.37612192 0.66671982]\n",
            "  [0.38357624 0.12703189 0.35183961]\n",
            "  [0.75243756 0.43638716 0.62924196]]\n",
            "\n",
            " [[0.95251688 0.75044401 0.04380736]\n",
            "  [0.85981843 0.45518858 0.21830548]\n",
            "  [0.050833   0.98094368 0.30021422]]\n",
            "\n",
            " [[0.00329129 0.3656723  0.99360462]\n",
            "  [0.72855135 0.90714483 0.13380833]\n",
            "  [0.56977082 0.77633793 0.87932078]]]\n"
          ]
        }
      ]
    },
    {
      "cell_type": "code",
      "source": [
        "#13)array 10x10, valores aleatores, pegar valor minimo e máximo:\n",
        "\n",
        "import numpy as np\n",
        "\n",
        "array = np.random.random((10,10))\n",
        "print(array)\n",
        "print(type(array))\n",
        "x = np.max(array)\n",
        "y = np.min(array)\n",
        "\n",
        "print(\"valor máximo: {}\\nValor minimo: {}\".format(x,y))"
      ],
      "metadata": {
        "colab": {
          "base_uri": "https://localhost:8080/"
        },
        "id": "Qzi5JFuGmfht",
        "outputId": "7587c396-6990-4c39-c2f7-64a190af6ec5"
      },
      "execution_count": null,
      "outputs": [
        {
          "output_type": "stream",
          "name": "stdout",
          "text": [
            "[[0.32546734 0.33439006 0.15982726 0.49892985 0.40205849 0.974606\n",
            "  0.38481557 0.5932774  0.78558535 0.69801862]\n",
            " [0.63581804 0.94631281 0.59108502 0.90251907 0.83811065 0.46157557\n",
            "  0.49510806 0.84164433 0.77896051 0.78270072]\n",
            " [0.23198065 0.96705378 0.63412373 0.41393047 0.12340495 0.05203399\n",
            "  0.75540169 0.43560531 0.94974733 0.0868206 ]\n",
            " [0.32001065 0.38636084 0.327209   0.85111817 0.65300374 0.73224561\n",
            "  0.12379524 0.16439505 0.00177546 0.61697021]\n",
            " [0.71836079 0.75498621 0.70323065 0.07558961 0.0876378  0.25854765\n",
            "  0.6253549  0.38095837 0.39681806 0.42776227]\n",
            " [0.16331135 0.60879813 0.0300134  0.25218847 0.13069122 0.25544986\n",
            "  0.87485014 0.02270828 0.75467548 0.30802499]\n",
            " [0.98817784 0.25935367 0.45247866 0.25136885 0.29928018 0.11077444\n",
            "  0.9992708  0.68067399 0.75606169 0.50979216]\n",
            " [0.31690964 0.62499031 0.33982221 0.49460391 0.81358257 0.55897286\n",
            "  0.73281613 0.16979997 0.48520105 0.4832764 ]\n",
            " [0.50381572 0.49226812 0.07954202 0.44879948 0.38909244 0.52568529\n",
            "  0.68444672 0.77740255 0.87824568 0.23775214]\n",
            " [0.31795887 0.83386178 0.50615744 0.71609237 0.30206102 0.2451384\n",
            "  0.38293354 0.98582574 0.44112271 0.64491699]]\n",
            "<class 'numpy.ndarray'>\n",
            "valor máximo: 0.999270803122939\n",
            "Valor minimo: 0.0017754554366574693\n"
          ]
        }
      ]
    },
    {
      "cell_type": "code",
      "source": [
        "#### 14. Crie um vetor aleatório de tamanho 30 e encontre o valor médio (★☆☆)\n",
        "import numpy as np\n",
        "\n",
        "z = np.random.random((10))\n",
        "mean = np.mean(z)\n",
        "print(z)\n",
        "print(\"valor médio: {}\".format(mean))"
      ],
      "metadata": {
        "colab": {
          "base_uri": "https://localhost:8080/"
        },
        "id": "ZshAsh_Ipwkg",
        "outputId": "ed457aff-a1e8-4524-d604-1ef952524bf7"
      },
      "execution_count": null,
      "outputs": [
        {
          "output_type": "stream",
          "name": "stdout",
          "text": [
            "[0.16277377 0.70265774 0.83052701 0.63352219 0.51693883 0.56847246\n",
            " 0.25404506 0.19847991 0.72272676 0.39072647]\n",
            "valor médio: 0.49808701979276215\n"
          ]
        }
      ]
    },
    {
      "cell_type": "markdown",
      "source": [
        "Aqui estão exemplos de como usar algumas das funções mencionadas da biblioteca NumPy:\n",
        "\n",
        "1. **`np.array()`:** Criar um array NumPy a partir de uma lista de Python.\n",
        "\n",
        "```python\n",
        "import numpy as np\n",
        "\n",
        "lista = [1, 2, 3, 4, 5]\n",
        "array = np.array(lista)\n",
        "print(array)\n",
        "```\n",
        "\n",
        "2. **`np.mean()`:** Calcular a média de um array NumPy.\n",
        "\n",
        "```python\n",
        "import numpy as np\n",
        "\n",
        "array = np.array([1, 2, 3, 4, 5])\n",
        "media = np.mean(array)\n",
        "print(\"Média:\", media)\n",
        "```\n",
        "\n",
        "3. **`np.max()`:** Encontrar o valor máximo em um array NumPy.\n",
        "\n",
        "```python\n",
        "import numpy as np\n",
        "\n",
        "array = np.array([1, 2, 3, 4, 5])\n",
        "maximo = np.max(array)\n",
        "print(\"Máximo:\", maximo)\n",
        "```\n",
        "\n",
        "4. **`np.min()`:** Encontrar o valor mínimo em um array NumPy.\n",
        "\n",
        "```python\n",
        "import numpy as np\n",
        "\n",
        "array = np.array([1, 2, 3, 4, 5])\n",
        "minimo = np.min(array)\n",
        "print(\"Mínimo:\", minimo)\n",
        "```\n",
        "\n",
        "Esses exemplos demonstram como criar um array NumPy com `np.array()` e realizar cálculos básicos, como média, máximo e mínimo, usando `np.mean()`, `np.max()` e `np.min()`. Lembre-se de que você pode aplicar essas funções a arrays multidimensionais e personalizá-las conforme necessário para suas necessidades."
      ],
      "metadata": {
        "id": "abbve_SEyu1i"
      }
    },
    {
      "cell_type": "markdown",
      "source": [
        "Claro, aqui estão algumas outras funções úteis da biblioteca NumPy:\n",
        "\n",
        "5. **`np.arange()`:** Criar um array NumPy de valores espaçados uniformemente em um intervalo especificado.\n",
        "\n",
        "```python\n",
        "import numpy as np\n",
        "\n",
        "array = np.arange(1, 11)  # Cria um array de 1 a 10\n",
        "print(array)\n",
        "```\n",
        "\n",
        "6. **`np.linspace()`:** Criar um array NumPy com valores igualmente espaçados dentro de um intervalo especificado.\n",
        "\n",
        "```python\n",
        "import numpy as np\n",
        "\n",
        "array = np.linspace(0, 1, 5)  # Cria um array de 0 a 1 com 5 valores igualmente espaçados\n",
        "print(array)\n",
        "```\n",
        "\n",
        "7. **`np.zeros()`:** Criar um array NumPy preenchido com zeros.\n",
        "\n",
        "```python\n",
        "import numpy as np\n",
        "\n",
        "array = np.zeros(5)  # Cria um array de zeros com 5 elementos\n",
        "print(array)\n",
        "```\n",
        "\n",
        "8. **`np.ones()`:** Criar um array NumPy preenchido com uns.\n",
        "\n",
        "```python\n",
        "import numpy as np\n",
        "\n",
        "array = np.ones(5)  # Cria um array de uns com 5 elementos\n",
        "print(array)\n",
        "```\n",
        "\n",
        "9. **`np.eye()`:** Criar uma matriz de identidade (matriz com uns na diagonal principal e zeros em outros lugares).\n",
        "\n",
        "```python\n",
        "import numpy as np\n",
        "\n",
        "matriz = np.eye(3)  # Cria uma matriz de identidade 3x3\n",
        "print(matriz)\n",
        "```\n",
        "\n",
        "10. **`np.reshape()`:** Alterar a forma de um array NumPy para uma nova forma especificada.\n",
        "\n",
        "```python\n",
        "import numpy as np\n",
        "\n",
        "array = np.arange(1, 7)\n",
        "novo_array = np.reshape(array, (2, 3))  # Altera a forma para uma matriz 2x3\n",
        "print(novo_array)\n",
        "```\n",
        "\n",
        "11. **`np.transpose()`:** Transpor um array NumPy (trocar linhas por colunas).\n",
        "\n",
        "```python\n",
        "import numpy as np\n",
        "\n",
        "matriz = np.array([[1, 2], [3, 4]])\n",
        "matriz_transposta = np.transpose(matriz)\n",
        "print(matriz_transposta)\n",
        "```\n",
        "\n",
        "12. **`np.concatenate()`:** Concatenar dois ou mais arrays ao longo de um eixo especificado.\n",
        "\n",
        "```python\n",
        "import numpy as np\n",
        "\n",
        "array1 = np.array([1, 2, 3])\n",
        "array2 = np.array([4, 5, 6])\n",
        "concatenado = np.concatenate((array1, array2))\n",
        "print(concatenado)\n",
        "```\n",
        "\n",
        "Essas são apenas algumas das muitas funções disponíveis na biblioteca NumPy. Elas são essenciais para realizar operações de manipulação de dados, álgebra linear e cálculos científicos em Python."
      ],
      "metadata": {
        "id": "4qgG8oXDwwf3"
      }
    },
    {
      "cell_type": "markdown",
      "source": [
        "Claro, aqui estão mais algumas funções úteis da biblioteca NumPy:\n",
        "\n",
        "13. **`np.sum()`:** Calcular a soma dos elementos de um array NumPy.\n",
        "\n",
        "```python\n",
        "import numpy as np\n",
        "\n",
        "array = np.array([1, 2, 3, 4, 5])\n",
        "soma = np.sum(array)\n",
        "print(\"Soma:\", soma)\n",
        "```\n",
        "\n",
        "14. **`np.prod()`:** Calcular o produto dos elementos de um array NumPy.\n",
        "\n",
        "```python\n",
        "import numpy as np\n",
        "\n",
        "array = np.array([1, 2, 3, 4, 5])\n",
        "produto = np.prod(array)\n",
        "print(\"Produto:\", produto)\n",
        "```\n",
        "\n",
        "15. **`np.std()`:** Calcular o desvio padrão dos elementos de um array NumPy.\n",
        "\n",
        "```python\n",
        "import numpy as np\n",
        "\n",
        "array = np.array([1, 2, 3, 4, 5])\n",
        "desvio_padrao = np.std(array)\n",
        "print(\"Desvio Padrão:\", desvio_padrao)\n",
        "```\n",
        "\n",
        "16. **`np.var()`:** Calcular a variância dos elementos de um array NumPy.\n",
        "\n",
        "```python\n",
        "import numpy as np\n",
        "\n",
        "array = np.array([1, 2, 3, 4, 5])\n",
        "variancia = np.var(array)\n",
        "print(\"Variância:\", variancia)\n",
        "```\n",
        "\n",
        "17. **`np.argmax()`:** Encontrar o índice do valor máximo em um array NumPy.\n",
        "\n",
        "```python\n",
        "import numpy as np\n",
        "\n",
        "array = np.array([10, 30, 20, 40, 50])\n",
        "indice_maximo = np.argmax(array)\n",
        "print(\"Índice do Valor Máximo:\", indice_maximo)\n",
        "```\n",
        "\n",
        "18. **`np.argmin()`:** Encontrar o índice do valor mínimo em um array NumPy.\n",
        "\n",
        "```python\n",
        "import numpy as np\n",
        "\n",
        "array = np.array([10, 30, 20, 5, 50])\n",
        "indice_minimo = np.argmin(array)\n",
        "print(\"Índice do Valor Mínimo:\", indice_minimo)\n",
        "```\n",
        "\n",
        "19. **`np.unique()`:** Encontrar valores únicos em um array NumPy.\n",
        "\n",
        "```python\n",
        "import numpy as np\n",
        "\n",
        "array = np.array([1, 2, 2, 3, 3, 4, 5, 5])\n",
        "valores_unicos = np.unique(array)\n",
        "print(\"Valores Únicos:\", valores_unicos)\n",
        "```\n",
        "\n",
        "20. **`np.where()`:** Encontrar os índices onde uma condição é verdadeira em um array NumPy.\n",
        "\n",
        "```python\n",
        "import numpy as np\n",
        "\n",
        "array = np.array([1, 2, 3, 4, 5])\n",
        "indices = np.where(array > 2)\n",
        "print(\"Índices onde a condição é verdadeira:\", indices)\n",
        "```\n",
        "\n",
        "Essas são mais algumas funções úteis da biblioteca NumPy para realizar diversas operações em arrays NumPy e dados numéricos. NumPy é uma ferramenta poderosa para computação científica e análise de dados em Python.\n",
        "\n"
      ],
      "metadata": {
        "id": "o1Optl5CxuGF"
      }
    },
    {
      "cell_type": "markdown",
      "source": [
        "Claro, aqui estão mais algumas funções úteis da biblioteca NumPy que podem ser úteis para sua apostila:\n",
        "\n",
        "21. **`np.median()`:** Calcular a mediana dos elementos de um array NumPy.\n",
        "\n",
        "```python\n",
        "import numpy as np\n",
        "\n",
        "array = np.array([1, 3, 5, 7, 9])\n",
        "mediana = np.median(array)\n",
        "print(\"Mediana:\", mediana)\n",
        "```\n",
        "\n",
        "22. **`np.percentile()`:** Calcular os percentis de um array NumPy.\n",
        "\n",
        "```python\n",
        "import numpy as np\n",
        "\n",
        "array = np.array([1, 2, 3, 4, 5])\n",
        "percentil_25 = np.percentile(array, 25)  # 25º percentil\n",
        "percentil_75 = np.percentile(array, 75)  # 75º percentil\n",
        "print(\"25º Percentil:\", percentil_25)\n",
        "print(\"75º Percentil:\", percentil_75)\n",
        "```\n",
        "\n",
        "23. **`np.random.choice()`:** Amostrar aleatoriamente elementos de um array NumPy.\n",
        "\n",
        "```python\n",
        "import numpy as np\n",
        "\n",
        "array = np.array([1, 2, 3, 4, 5])\n",
        "amostra = np.random.choice(array, size=3, replace=False)  # Amostra de 3 elementos sem reposição\n",
        "print(\"Amostra Aleatória:\", amostra)\n",
        "```\n",
        "\n",
        "24. **`np.unique()`:** Contar a contagem de valores únicos em um array NumPy.\n",
        "\n",
        "```python\n",
        "import numpy as np\n",
        "\n",
        "array = np.array([1, 2, 2, 3, 3, 3, 4, 4, 4, 4])\n",
        "valores_unicos, contagens = np.unique(array, return_counts=True)\n",
        "print(\"Valores Únicos:\", valores_unicos)\n",
        "print(\"Contagens:\", contagens)\n",
        "```\n",
        "\n",
        "25. **`np.histogram()`:** Calcular um histograma de valores em um array NumPy.\n",
        "\n",
        "```python\n",
        "import numpy as np\n",
        "import matplotlib.pyplot as plt\n",
        "\n",
        "array = np.array([1, 2, 2, 3, 3, 3, 4, 4, 4, 4])\n",
        "hist, bins = np.histogram(array, bins=3)  # Calcula o histograma com 3 bins\n",
        "print(\"Histograma:\", hist)\n",
        "print(\"Bins:\", bins)\n",
        "\n",
        "# Para plotar o histograma\n",
        "plt.hist(array, bins=3)\n",
        "plt.show()\n",
        "```\n",
        "\n",
        "26. **`np.loadtxt()` e `np.savetxt()`:** Carregar dados de um arquivo de texto em um array NumPy e salvar um array NumPy em um arquivo de texto.\n",
        "\n",
        "```python\n",
        "import numpy as np\n",
        "\n",
        "# Carregar dados de um arquivo de texto em um array NumPy\n",
        "dados = np.loadtxt(\"dados.txt\")\n",
        "\n",
        "# Salvar um array NumPy em um arquivo de texto\n",
        "np.savetxt(\"dados_salvos.txt\", dados)\n",
        "```\n",
        "\n"
      ],
      "metadata": {
        "id": "RwPpwj6dzGYb"
      }
    },
    {
      "cell_type": "markdown",
      "source": [
        "Claro, aqui estão algumas funções da biblioteca NumPy que são úteis para análises algébricas e manipulação de matrizes:\n",
        "\n",
        "27. **`np.dot()`:** Realizar o produto escalar entre duas matrizes ou o produto matricial entre duas matrizes.\n",
        "\n",
        "```python\n",
        "import numpy as np\n",
        "\n",
        "A = np.array([[1, 2], [3, 4]])\n",
        "B = np.array([[5, 6], [7, 8]])\n",
        "produto_escalar = np.dot(A, B)\n",
        "print(\"Produto Escalar:\")\n",
        "print(produto_escalar)\n",
        "\n",
        "produto_matricial = A @ B  # Outra forma de realizar o produto matricial\n",
        "print(\"Produto Matricial:\")\n",
        "print(produto_matricial)\n",
        "```\n",
        "\n",
        "28. **`np.linalg.inv()`:** Calcular a matriz inversa de uma matriz NumPy.\n",
        "\n",
        "```python\n",
        "import numpy as np\n",
        "\n",
        "A = np.array([[2, 1], [5, 3]])\n",
        "inversa_A = np.linalg.inv(A)\n",
        "print(\"Matriz Inversa:\")\n",
        "print(inversa_A)\n",
        "```\n",
        "\n",
        "29. **`np.linalg.det()`:** Calcular o determinante de uma matriz NumPy.\n",
        "\n",
        "```python\n",
        "import numpy as np\n",
        "\n",
        "A = np.array([[2, 1], [5, 3]])\n",
        "determinante_A = np.linalg.det(A)\n",
        "print(\"Determinante:\", determinante_A)\n",
        "```\n",
        "\n",
        "30. **`np.linalg.eig()`:** Calcular os autovalores e autovetores de uma matriz NumPy.\n",
        "\n",
        "```python\n",
        "import numpy as np\n",
        "\n",
        "A = np.array([[2, 1], [1, 3]])\n",
        "autovalores, autovetores = np.linalg.eig(A)\n",
        "print(\"Autovalores:\")\n",
        "print(autovalores)\n",
        "print(\"Autovetores:\")\n",
        "print(autovetores)\n",
        "```\n",
        "\n",
        "31. **`np.linalg.solve()`:** Resolver sistemas de equações lineares representados como matrizes NumPy.\n",
        "\n",
        "```python\n",
        "import numpy as np\n",
        "\n",
        "A = np.array([[2, 1], [1, 3]])\n",
        "b = np.array([1, 2])\n",
        "x = np.linalg.solve(A, b)\n",
        "print(\"Solução do Sistema Linear:\")\n",
        "print(x)\n",
        "```\n",
        "\n",
        "Essas funções são essenciais para realizar operações algébricas, como multiplicação de matrizes, cálculo de inversa e determinante, análise de autovalores e autovetores, e resolução de sistemas de equações lineares. Elas são especialmente úteis em aplicações de álgebra linear e análise numérica."
      ],
      "metadata": {
        "id": "HVuaRA5qzag_"
      }
    },
    {
      "cell_type": "markdown",
      "source": [
        "Claro, aqui estão alguns exemplos de códigos que envolvem operações algébricas com a biblioteca NumPy:\n",
        "\n",
        "32. **Multiplicação de Matrizes:** Este exemplo multiplica duas matrizes usando a função `np.dot()`.\n",
        "\n",
        "```python\n",
        "import numpy as np\n",
        "\n",
        "A = np.array([[1, 2], [3, 4]])\n",
        "B = np.array([[5, 6], [7, 8]])\n",
        "produto = np.dot(A, B)\n",
        "print(\"Produto de Matrizes:\")\n",
        "print(produto)\n",
        "```\n",
        "\n",
        "33. **Cálculo de Inversa:** Este código calcula a matriz inversa de uma matriz usando `np.linalg.inv()`.\n",
        "\n",
        "```python\n",
        "import numpy as np\n",
        "\n",
        "A = np.array([[2, 1], [5, 3]])\n",
        "inversa_A = np.linalg.inv(A)\n",
        "print(\"Matriz Inversa:\")\n",
        "print(inversa_A)\n",
        "```\n",
        "\n",
        "34. **Cálculo de Determinante:** Calcula o determinante de uma matriz usando `np.linalg.det()`.\n",
        "\n",
        "```python\n",
        "import numpy as np\n",
        "\n",
        "A = np.array([[2, 1], [5, 3]])\n",
        "determinante_A = np.linalg.det(A)\n",
        "print(\"Determinante:\", determinante_A)\n",
        "```\n",
        "\n",
        "35. **Cálculo de Autovalores e Autovetores:** Encontra os autovalores e autovetores de uma matriz usando `np.linalg.eig()`.\n",
        "\n",
        "```python\n",
        "import numpy as np\n",
        "\n",
        "A = np.array([[2, 1], [1, 3]])\n",
        "autovalores, autovetores = np.linalg.eig(A)\n",
        "print(\"Autovalores:\")\n",
        "print(autovalores)\n",
        "print(\"Autovetores:\")\n",
        "print(autovetores)\n",
        "```\n",
        "\n",
        "36. **Resolução de Sistema de Equações Lineares:** Resolve um sistema de equações lineares usando `np.linalg.solve()`.\n",
        "\n",
        "```python\n",
        "import numpy as np\n",
        "\n",
        "A = np.array([[2, 1], [1, 3]])\n",
        "b = np.array([1, 2])\n",
        "x = np.linalg.solve(A, b)\n",
        "print(\"Solução do Sistema Linear:\")\n",
        "print(x)\n",
        "```\n",
        "\n",
        "37. **Decomposição de Valores Singulares (SVD):** Este código realiza a decomposição de valores singulares usando `np.linalg.svd()`.\n",
        "\n",
        "```python\n",
        "import numpy as np\n",
        "\n",
        "A = np.array([[1, 2], [3, 4], [5, 6]])\n",
        "U, S, VT = np.linalg.svd(A)\n",
        "print(\"Matriz U:\")\n",
        "print(U)\n",
        "print(\"Valores Singulares:\")\n",
        "print(S)\n",
        "print(\"Matriz VT (transposta de V):\")\n",
        "print(VT)\n",
        "```\n",
        "\n",
        "38. **Cálculo da Pseudo-inversa:** Calcula a pseudo-inversa de uma matriz usando `np.linalg.pinv()`.\n",
        "\n",
        "```python\n",
        "import numpy as np\n",
        "\n",
        "A = np.array([[2, 1], [5, 3]])\n",
        "pseudo_inversa_A = np.linalg.pinv(A)\n",
        "print(\"Pseudo-inversa:\")\n",
        "print(pseudo_inversa_A)\n",
        "```\n",
        "\n",
        "Esses exemplos demonstram várias operações algébricas que podem ser realizadas com a biblioteca NumPy. Eles são úteis para aplicações em álgebra linear, análise numérica e processamento de dados."
      ],
      "metadata": {
        "id": "rkyHmt8lyYbj"
      }
    },
    {
      "cell_type": "markdown",
      "source": [
        "Claro, aqui estão mais algumas funções úteis para expandir sua compreensão da biblioteca NumPy:\n",
        "\n",
        "39. **Cálculo de Norma:** Calcule a norma (magnitude) de um vetor usando `np.linalg.norm()`.\n",
        "\n",
        "```python\n",
        "import numpy as np\n",
        "\n",
        "vetor = np.array([3, 4])\n",
        "norma = np.linalg.norm(vetor)\n",
        "print(\"Norma do Vetor:\", norma)\n",
        "```\n",
        "\n",
        "40. **Matriz de Covariância:** Calcule a matriz de covariância de um conjunto de dados usando `np.cov()`.\n",
        "\n",
        "```python\n",
        "import numpy as np\n",
        "\n",
        "dados = np.array([[1, 2, 3], [4, 5, 6], [7, 8, 9]])\n",
        "covariancia = np.cov(dados)\n",
        "print(\"Matriz de Covariância:\")\n",
        "print(covariancia)\n",
        "```\n",
        "\n",
        "41. **Matriz de Correlação:** Calcule a matriz de correlação de um conjunto de dados usando `np.corrcoef()`.\n",
        "\n",
        "```python\n",
        "import numpy as np\n",
        "\n",
        "dados = np.array([[1, 2, 3], [4, 5, 6], [7, 8, 9]])\n",
        "correlacao = np.corrcoef(dados)\n",
        "print(\"Matriz de Correlação:\")\n",
        "print(correlacao)\n",
        "```\n",
        "\n",
        "42. **Álgebra de Vetores:** Realize operações de álgebra de vetores, como soma e multiplicação por escalar.\n",
        "\n",
        "```python\n",
        "import numpy as np\n",
        "\n",
        "vetor1 = np.array([1, 2, 3])\n",
        "vetor2 = np.array([4, 5, 6])\n",
        "\n",
        "soma = vetor1 + vetor2\n",
        "produto_escalar = np.dot(vetor1, vetor2)\n",
        "multiplicacao_escalar = 2 * vetor1\n",
        "\n",
        "print(\"Soma de Vetores:\", soma)\n",
        "print(\"Produto Escalar:\", produto_escalar)\n",
        "print(\"Multiplicação por Escalar:\", multiplicacao_escalar)\n",
        "```\n",
        "\n",
        "43. **Exponenciação de Matriz:** Calcule a exponenciação de uma matriz usando `np.linalg.matrix_power()`.\n",
        "\n",
        "```python\n",
        "import numpy as np\n",
        "\n",
        "A = np.array([[1, 2], [3, 4]])\n",
        "exponenciacao = np.linalg.matrix_power(A, 2)  # Elevar A à potência 2\n",
        "print(\"Matriz Elevada à Potência 2:\")\n",
        "print(exponenciacao)\n",
        "```\n",
        "\n",
        "44. **Soma de Elementos por Coluna ou Linha:** Calcule a soma de elementos por coluna ou linha em uma matriz usando `np.sum()` com o argumento `axis`.\n",
        "\n",
        "```python\n",
        "import numpy as np\n",
        "\n",
        "matriz = np.array([[1, 2, 3], [4, 5, 6], [7, 8, 9]])\n",
        "soma_por_coluna = np.sum(matriz, axis=0)  # Soma por coluna\n",
        "soma_por_linha = np.sum(matriz, axis=1)    # Soma por linha\n",
        "\n",
        "print(\"Soma por Coluna:\", soma_por_coluna)\n",
        "print(\"Soma por Linha:\", soma_por_linha)\n",
        "```\n",
        "\n",
        "Essas funções adicionais permitem que você realize uma ampla variedade de operações algébricas e análises de dados usando NumPy. Elas são especialmente úteis para tarefas mais avançadas em álgebra linear, estatísticas e processamento de dados."
      ],
      "metadata": {
        "id": "h-ow1upT0qKI"
      }
    },
    {
      "cell_type": "code",
      "source": [],
      "metadata": {
        "id": "RTtB_kKYxstc"
      },
      "execution_count": null,
      "outputs": []
    },
    {
      "cell_type": "code",
      "source": [
        "Claro, aqui estão algumas outras funções úteis da biblioteca NumPy:\n",
        "\n",
        "5. **`np.arange()`:** Criar um array NumPy de valores espaçados uniformemente em um intervalo especificado.\n",
        "\n",
        "```python\n",
        "import numpy as np\n",
        "\n",
        "array = np.arange(1, 11)  # Cria um array de 1 a 10\n",
        "print(array)\n",
        "```\n",
        "\n",
        "6. **`np.linspace()`:** Criar um array NumPy com valores igualmente espaçados dentro de um intervalo especificado.\n",
        "\n",
        "```python\n",
        "import numpy as np\n",
        "\n",
        "array = np.linspace(0, 1, 5)  # Cria um array de 0 a 1 com 5 valores igualmente espaçados\n",
        "print(array)\n",
        "```\n",
        "\n",
        "7. **`np.zeros()`:** Criar um array NumPy preenchido com zeros.\n",
        "\n",
        "```python\n",
        "import numpy as np\n",
        "\n",
        "array = np.zeros(5)  # Cria um array de zeros com 5 elementos\n",
        "print(array)\n",
        "```\n",
        "\n",
        "8. **`np.ones()`:** Criar um array NumPy preenchido com uns.\n",
        "\n",
        "```python\n",
        "import numpy as np\n",
        "\n",
        "array = np.ones(5)  # Cria um array de uns com 5 elementos\n",
        "print(array)\n",
        "```\n",
        "\n",
        "9. **`np.eye()`:** Criar uma matriz de identidade (matriz com uns na diagonal principal e zeros em outros lugares).\n",
        "\n",
        "```python\n",
        "import numpy as np\n",
        "\n",
        "matriz = np.eye(3)  # Cria uma matriz de identidade 3x3\n",
        "print(matriz)\n",
        "```\n",
        "\n",
        "10. **`np.reshape()`:** Alterar a forma de um array NumPy para uma nova forma especificada.\n",
        "\n",
        "```python\n",
        "import numpy as np\n",
        "\n",
        "array = np.arange(1, 7)\n",
        "novo_array = np.reshape(array, (2, 3))  # Altera a forma para uma matriz 2x3\n",
        "print(novo_array)\n",
        "```\n",
        "\n",
        "11. **`np.transpose()`:** Transpor um array NumPy (trocar linhas por colunas).\n",
        "\n",
        "```python\n",
        "import numpy as np\n",
        "\n",
        "matriz = np.array([[1, 2], [3, 4]])\n",
        "matriz_transposta = np.transpose(matriz)\n",
        "print(matriz_transposta)\n",
        "```\n",
        "\n",
        "12. **`np.concatenate()`:** Concatenar dois ou mais arrays ao longo de um eixo especificado.\n",
        "\n",
        "```python\n",
        "import numpy as np\n",
        "\n",
        "array1 = np.array([1, 2, 3])\n",
        "array2 = np.array([4, 5, 6])\n",
        "concatenado = np.concatenate((array1, array2))\n",
        "print(concatenado)\n",
        "```\n",
        "\n",
        "Essas são apenas algumas das muitas funções disponíveis na biblioteca NumPy. Elas são essenciais para realizar operações de manipulação de dados, álgebra linear e cálculos científicos em Python."
      ],
      "metadata": {
        "id": "FGXmhl92w3GI"
      },
      "execution_count": null,
      "outputs": []
    },
    {
      "cell_type": "code",
      "source": [
        "import numpy as np\n",
        "\n",
        "array = np.arange(0,16).reshape(4,4)\n",
        "print(array)\n",
        "print(type(array))\n",
        "\n"
      ],
      "metadata": {
        "colab": {
          "base_uri": "https://localhost:8080/"
        },
        "id": "LcG53fqsMvaP",
        "outputId": "df77538e-af2c-4a50-9dc3-f3c6cede8416"
      },
      "execution_count": null,
      "outputs": [
        {
          "output_type": "stream",
          "name": "stdout",
          "text": [
            "[[ 0  1  2  3]\n",
            " [ 4  5  6  7]\n",
            " [ 8  9 10 11]\n",
            " [12 13 14 15]]\n",
            "<class 'numpy.ndarray'>\n"
          ]
        }
      ]
    }
  ]
}